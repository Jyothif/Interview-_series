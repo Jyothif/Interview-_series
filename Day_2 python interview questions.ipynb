{
 "cells": [
  {
   "cell_type": "markdown",
   "metadata": {},
   "source": [
    "Question 1: when do  you use * args?\n",
    "- Answer: In case when we dont know how many arguments will be passed to function, like when we want to pass a list or a tuple of values when use *args."
   ]
  },
  {
   "cell_type": "code",
   "execution_count": 5,
   "metadata": {},
   "outputs": [
    {
     "name": "stdout",
     "output_type": "stream",
     "text": [
      "3\n",
      "1\n",
      "4\n",
      "7\n"
     ]
    }
   ],
   "source": [
    "# 1\n",
    "def func(*args):\n",
    "    for i in args:\n",
    "        print(i)\n",
    "func(3,1,4,7)"
   ]
  },
  {
   "cell_type": "markdown",
   "metadata": {},
   "source": [
    "Question 2: How do you create a random 1D array?\n",
    "Answer: using numpy library's random function, can create random 1 dimensional arrya of any size."
   ]
  },
  {
   "cell_type": "code",
   "execution_count": 6,
   "metadata": {},
   "outputs": [
    {
     "name": "stdout",
     "output_type": "stream",
     "text": [
      "1D Array filled with random values: [0.65062384 0.31804548 0.049035   0.63182398 0.4805329 ]\n"
     ]
    }
   ],
   "source": [
    "import numpy as np\n",
    "array = np.random.rand(5)\n",
    "print(\"1D Array filled with random values:\", array)"
   ]
  },
  {
   "cell_type": "markdown",
   "metadata": {},
   "source": [
    "Quetion 3: what will be the out put of this code snippet?"
   ]
  },
  {
   "cell_type": "code",
   "execution_count": 9,
   "metadata": {},
   "outputs": [
    {
     "ename": "ValueError",
     "evalue": "10 is not in list",
     "output_type": "error",
     "traceback": [
      "\u001b[1;31m---------------------------------------------------------------------------\u001b[0m",
      "\u001b[1;31mValueError\u001b[0m                                Traceback (most recent call last)",
      "\u001b[1;32m<ipython-input-9-48d290947a2d>\u001b[0m in \u001b[0;36m<module>\u001b[1;34m\u001b[0m\n\u001b[0;32m      1\u001b[0m \u001b[0mlist1\u001b[0m \u001b[1;33m=\u001b[0m \u001b[1;33m[\u001b[0m\u001b[1;36m1\u001b[0m\u001b[1;33m,\u001b[0m\u001b[1;36m2\u001b[0m\u001b[1;33m,\u001b[0m\u001b[1;36m3\u001b[0m\u001b[1;33m,\u001b[0m\u001b[1;36m4\u001b[0m\u001b[1;33m,\u001b[0m\u001b[1;36m5\u001b[0m\u001b[1;33m,\u001b[0m\u001b[1;36m6\u001b[0m\u001b[1;33m,\u001b[0m\u001b[1;36m7\u001b[0m\u001b[1;33m,\u001b[0m\u001b[1;36m8\u001b[0m\u001b[1;33m,\u001b[0m\u001b[1;36m9\u001b[0m\u001b[1;33m]\u001b[0m\u001b[1;33m\u001b[0m\u001b[1;33m\u001b[0m\u001b[0m\n\u001b[1;32m----> 2\u001b[1;33m \u001b[0mprint\u001b[0m\u001b[1;33m(\u001b[0m\u001b[0mlist1\u001b[0m\u001b[1;33m.\u001b[0m\u001b[0mindex\u001b[0m\u001b[1;33m(\u001b[0m\u001b[1;36m10\u001b[0m\u001b[1;33m)\u001b[0m\u001b[1;33m)\u001b[0m\u001b[1;33m\u001b[0m\u001b[1;33m\u001b[0m\u001b[0m\n\u001b[0m",
      "\u001b[1;31mValueError\u001b[0m: 10 is not in list"
     ]
    }
   ],
   "source": [
    "list1 = [1,2,3,4,5,6,7,8,9]\n",
    "print(list1.index(10))"
   ]
  },
  {
   "cell_type": "markdown",
   "metadata": {},
   "source": [
    "explanation: a value error in python since when index command tries to get index of value '10'. It is not able to find value in 10 in the list throws a value error.\n",
    "\n",
    "`ValueError in python means that there is a problem with content of the object you are trying to access to assign or assign the value to`"
   ]
  },
  {
   "cell_type": "markdown",
   "metadata": {},
   "source": [
    "Question 4: How do you list multiple csv files  in a folder?\n",
    "\n",
    "- can use the fucntion listdr from os library in python to achieve the same."
   ]
  },
  {
   "cell_type": "code",
   "execution_count": 10,
   "metadata": {},
   "outputs": [
    {
     "data": {
      "text/plain": [
       "['.gitignore',\n",
       " '.ipynb_checkpoints',\n",
       " 'Acryonyms.ipynb',\n",
       " 'Alaram Clock.ipynb',\n",
       " 'alarmclock.py',\n",
       " 'Day1_ python interview questions.ipynb',\n",
       " 'Day_1 Machine learning Interview questions.ipynb',\n",
       " 'Day_2 python interview questions.ipynb',\n",
       " 'deplyemt models.docx',\n",
       " 'Lib',\n",
       " 'minmax',\n",
       " 'minmax.py',\n",
       " 'pyvenv.cfg',\n",
       " 'Scripts']"
      ]
     },
     "execution_count": 10,
     "metadata": {},
     "output_type": "execute_result"
    }
   ],
   "source": [
    "import os\n",
    "os.listdir()"
   ]
  },
  {
   "cell_type": "markdown",
   "metadata": {},
   "source": [
    "question 5: What is difference between pivot_table and group_by in pandas?\n",
    "\n",
    "- `both pivot_table and group_by are used to aggregate your dataframe.the difference is only based on the shape of the result.`"
   ]
  },
  {
   "cell_type": "code",
   "execution_count": 12,
   "metadata": {},
   "outputs": [],
   "source": [
    "import numpy as np\n",
    "import pandas as pd\n",
    "df = pd.DataFrame({\"a\":[1,2,3,1,2,3],\n",
    "                  \"b\":[1,1,1,2,2,2],\n",
    "                   \"c\":np.random.rand(6)\n",
    "                  })"
   ]
  },
  {
   "cell_type": "code",
   "execution_count": 14,
   "metadata": {},
   "outputs": [
    {
     "data": {
      "text/html": [
       "<div>\n",
       "<style scoped>\n",
       "    .dataframe tbody tr th:only-of-type {\n",
       "        vertical-align: middle;\n",
       "    }\n",
       "\n",
       "    .dataframe tbody tr th {\n",
       "        vertical-align: top;\n",
       "    }\n",
       "\n",
       "    .dataframe thead tr th {\n",
       "        text-align: left;\n",
       "    }\n",
       "\n",
       "    .dataframe thead tr:last-of-type th {\n",
       "        text-align: right;\n",
       "    }\n",
       "</style>\n",
       "<table border=\"1\" class=\"dataframe\">\n",
       "  <thead>\n",
       "    <tr>\n",
       "      <th></th>\n",
       "      <th colspan=\"2\" halign=\"left\">c</th>\n",
       "    </tr>\n",
       "    <tr>\n",
       "      <th>b</th>\n",
       "      <th>1</th>\n",
       "      <th>2</th>\n",
       "    </tr>\n",
       "    <tr>\n",
       "      <th>a</th>\n",
       "      <th></th>\n",
       "      <th></th>\n",
       "    </tr>\n",
       "  </thead>\n",
       "  <tbody>\n",
       "    <tr>\n",
       "      <th>1</th>\n",
       "      <td>0.478590</td>\n",
       "      <td>0.177801</td>\n",
       "    </tr>\n",
       "    <tr>\n",
       "      <th>2</th>\n",
       "      <td>0.931282</td>\n",
       "      <td>0.262547</td>\n",
       "    </tr>\n",
       "    <tr>\n",
       "      <th>3</th>\n",
       "      <td>0.920635</td>\n",
       "      <td>0.312496</td>\n",
       "    </tr>\n",
       "  </tbody>\n",
       "</table>\n",
       "</div>"
      ],
      "text/plain": [
       "          c          \n",
       "b         1         2\n",
       "a                    \n",
       "1  0.478590  0.177801\n",
       "2  0.931282  0.262547\n",
       "3  0.920635  0.312496"
      ]
     },
     "execution_count": 14,
     "metadata": {},
     "output_type": "execute_result"
    }
   ],
   "source": [
    "pvt_tabl = pd.pivot_table(df,index=['a'],columns=['b'],values=['c'],aggfunc=np.sum)\n",
    "\n",
    "pvt_tabl"
   ]
  },
  {
   "cell_type": "code",
   "execution_count": 16,
   "metadata": {},
   "outputs": [
    {
     "data": {
      "text/plain": [
       "a  b\n",
       "1  1    0.478590\n",
       "   2    0.177801\n",
       "2  1    0.931282\n",
       "   2    0.262547\n",
       "3  1    0.920635\n",
       "   2    0.312496\n",
       "Name: c, dtype: float64"
      ]
     },
     "execution_count": 16,
     "metadata": {},
     "output_type": "execute_result"
    }
   ],
   "source": [
    "df.groupby(['a','b'])['c'].sum()"
   ]
  },
  {
   "cell_type": "markdown",
   "metadata": {},
   "source": [
    "Question 6:what is the difference between loc and iloc?\n",
    "\n",
    "\n",
    "- `loc get rows(or columns) with particular lables from the index`\n",
    "\n",
    "- `iloc gets row(or columns) at particular positions in the index(so it takes integers)`\n"
   ]
  },
  {
   "cell_type": "code",
   "execution_count": 17,
   "metadata": {},
   "outputs": [
    {
     "data": {
      "text/plain": [
       "49   NaN\n",
       "48   NaN\n",
       "47   NaN\n",
       "46   NaN\n",
       "45   NaN\n",
       "1    NaN\n",
       "2    NaN\n",
       "3    NaN\n",
       "dtype: float64"
      ]
     },
     "execution_count": 17,
     "metadata": {},
     "output_type": "execute_result"
    }
   ],
   "source": [
    "s =pd.Series(np.nan, index=[49,48,47,46,45,1,2,3,4,5])\n",
    "\n",
    "s.iloc[:3]#slice the first three rows i.e indexex 0,1,2\n",
    "s.loc[:3]#slice up to and including labels 3"
   ]
  },
  {
   "cell_type": "markdown",
   "metadata": {},
   "source": [
    " Question 7: what is the difference between apply and applymap function in pandas?\n",
    " \n",
    "- `apply() is used to apply a function along an axis (across rows or columns) of the DataFrame`\n",
    "\n",
    "- `applymap() is used to apply a function to DataFrame elementwise`"
   ]
  },
  {
   "cell_type": "code",
   "execution_count": 22,
   "metadata": {},
   "outputs": [
    {
     "name": "stdout",
     "output_type": "stream",
     "text": [
      "A    12\n",
      "B    27\n",
      "dtype: int64\n",
      "0    13\n",
      "1    13\n",
      "2    13\n",
      "dtype: int64\n",
      "   A   B\n",
      "0  6  11\n",
      "1  6  11\n",
      "2  6  11\n"
     ]
    }
   ],
   "source": [
    "df = pd.DataFrame([[4,9],]*3,columns=['A','B'])\n",
    "\n",
    "print(df.apply(np.sum, axis=0))\n",
    "print(df.apply(np.sum, axis=1))\n",
    "\n",
    "f = lambda x:x+2\n",
    "\n",
    "print(df.applymap(f))"
   ]
  },
  {
   "cell_type": "markdown",
   "metadata": {},
   "source": [
    "Question 8: Suppose you are given cars dataset which has HorsePower column, How will you create only two values:\n",
    "`If HorsePower<100 THEN \"Low HP\" If HorsePower>=100 THEN 'High HP'?`"
   ]
  },
  {
   "cell_type": "code",
   "execution_count": 30,
   "metadata": {},
   "outputs": [],
   "source": [
    "cars = pd.read_csv('cars.csv')\n",
    "f = lambda x:'low hp'if x<100 else 'high hp'\n",
    "cars['hp']=cars.horsepower.apply(f)\n",
    "cars.head()\n"
   ]
  },
  {
   "cell_type": "markdown",
   "metadata": {},
   "source": [
    "Question 9: What are different parts of plot in matplotlib?\n",
    "\n",
    "A Matplotlib plot can be divided into following parts\n",
    "\n",
    "**Figure**\n",
    "- The whole figure. The figure keeps track of all the child axes, a smattering of spcial artists (titles,figuring legends,etc), adn the canvas.A figure can have any number of Axes,but to be useful should have at least one.\n",
    "\n",
    "**Axes**\n",
    "- This is what you tihnk of as 'a plot',it is regionof the image with a data space(marked as the inner blue box).A given figure can contain many axes,but a given axes object can only be in one figure. The Axes contans two(the data limits can also controlled via set via the set_xlim() and set_ylim() axes methods). Each axes has a title(set via set_title()), anx-label(set via set_xlabel()), and y-label set via set_ylabel()).\n",
    "\n",
    "**Axis**\n",
    "- These are the number-line-like objects (circled in green). They take care of setting the graph limits and generating the ticks (the marks on the axis) and ticklabels (strings labeling the ticks). The location of the ticks is determined by a Locator object and the ticklabel strings are formatted by a Formatter. The combination of the correct Locator and Formatter gives very fine control over the tick locations and labels.\n",
    "\n",
    "\n",
    "**Artist**\n",
    "- Basically everything you can see on the figure is an artist (even the Figure, Axes, and Axis objects). This includes Text objects, Line2D objects, collection objects, Patch objects ... (you get the idea). When the figure is rendered, all of the artists are drawn to the canvas. Most Artists are tied to an Axes; such an Artist cannot be shared by multiple Axes, or moved from one to another.\n",
    "\n",
    "\n",
    "\n",
    "\n",
    "<img src=\"anatomy.png\">"
   ]
  },
  {
   "cell_type": "code",
   "execution_count": null,
   "metadata": {},
   "outputs": [],
   "source": []
  }
 ],
 "metadata": {
  "kernelspec": {
   "display_name": "Python 3",
   "language": "python",
   "name": "python3"
  },
  "language_info": {
   "codemirror_mode": {
    "name": "ipython",
    "version": 3
   },
   "file_extension": ".py",
   "mimetype": "text/x-python",
   "name": "python",
   "nbconvert_exporter": "python",
   "pygments_lexer": "ipython3",
   "version": "3.7.6"
  }
 },
 "nbformat": 4,
 "nbformat_minor": 4
}
